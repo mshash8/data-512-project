{
 "cells": [
  {
   "cell_type": "markdown",
   "id": "e53ba93d",
   "metadata": {},
   "source": [
    "## Wildfire Data Analysis\n",
    "This Notebook describes processes for the data acquistion, preparation and analysis for the the wildfire data from USGS. It also uses data from the EPA API which returns air quality for specific geographic locations.\n",
    "\n",
    "\n",
    "## License\n",
    "The code snippets below which define the reader, functions to calculate distance and change projections was developed by Dr. David W. McDonald for use in DATA 512, a course in the UW MS Data Science degree program. This code is provided under the [Creative Commons](https://creativecommons.org) [CC-BY license](https://creativecommons.org/licenses/by/4.0/)\n"
   ]
  },
  {
   "cell_type": "code",
   "execution_count": 31,
   "id": "bdf90499",
   "metadata": {},
   "outputs": [],
   "source": [
    "#\n",
    "#    IMPORTS\n",
    "# \n",
    "\n",
    "#    Import some standard python modules\n",
    "import os, json, time\n",
    "#\n",
    "#    The module pyproj is a standard module that can be installed using pip or your other favorite\n",
    "#    installation tool. This module provides tools to convert between different geodesic coordinate systems\n",
    "#    and for calculating distances between points (coordinates) in a specific geodesic system.\n",
    "#\n",
    "from pyproj import Transformer, Geod\n",
    "#\n",
    "#    The 'wildfire' module is a user module. This module is available from the course website. The module\n",
    "#    includes one object, a Reader, that can be used to read the GeoJSON files associated with the\n",
    "#    wildefire dataset. The module also contains a sample datafile that is GeoJSON compliant and that\n",
    "#    contains a small number of California wildfires extracted from the main wildfire dataset.\n",
    "#    \n",
    "from Reader import Reader as WFReader\n",
    "#\n",
    "#    There is a GeoJSON reader that you might try if you wanted to read the data. It has its own quirks.\n",
    "#    There will be an example below that reads the sample file \"Wildfire_short_sample.json\"\n",
    "#    \n",
    "import geojson\n",
    "\n",
    "import pandas as pd\n",
    "#\n",
    "from tqdm import tqdm\n",
    "import matplotlib.pyplot as plt"
   ]
  },
  {
   "cell_type": "code",
   "execution_count": 3,
   "id": "8aa43210",
   "metadata": {},
   "outputs": [
    {
     "name": "stdout",
     "output_type": "stream",
     "text": [
      "Attempting to open 'USGS_Wildland_Fire_Combined_Dataset.json' with wildfire.Reader() object\n",
      "\n",
      "The header has the following keys:\n",
      "['displayFieldName', 'fieldAliases', 'geometryType', 'spatialReference', 'fields']\n",
      "\n",
      "Header Dictionary\n",
      "{\n",
      "    \"displayFieldName\": \"\",\n",
      "    \"fieldAliases\": {\n",
      "        \"OBJECTID\": \"OBJECTID\",\n",
      "        \"USGS_Assigned_ID\": \"USGS Assigned ID\",\n",
      "        \"Assigned_Fire_Type\": \"Assigned Fire Type\",\n",
      "        \"Fire_Year\": \"Fire Year\",\n",
      "        \"Fire_Polygon_Tier\": \"Fire Polygon Tier\",\n",
      "        \"Fire_Attribute_Tiers\": \"Fire Attribute Tiers\",\n",
      "        \"GIS_Acres\": \"GIS_Acres\",\n",
      "        \"GIS_Hectares\": \"GIS_Hectares\",\n",
      "        \"Source_Datasets\": \"Source Datasets\",\n",
      "        \"Listed_Fire_Types\": \"Listed Fire Types\",\n",
      "        \"Listed_Fire_Names\": \"Listed Fire Names\",\n",
      "        \"Listed_Fire_Codes\": \"Listed Fire Codes\",\n",
      "        \"Listed_Fire_IDs\": \"Listed Fire IDs\",\n",
      "        \"Listed_Fire_IRWIN_IDs\": \"Listed Fire IRWIN IDs\",\n",
      "        \"Listed_Fire_Dates\": \"Listed Fire Dates\",\n",
      "        \"Listed_Fire_Causes\": \"Listed Fire Causes\",\n",
      "        \"Listed_Fire_Cause_Class\": \"Listed Fire Cause Class\",\n",
      "        \"Listed_Rx_Reported_Acres\": \"Listed Rx Reported Acres\",\n",
      "        \"Listed_Map_Digitize_Methods\": \"Listed Map Digitize Methods\",\n",
      "        \"Listed_Notes\": \"Listed Notes\",\n",
      "        \"Processing_Notes\": \"Processing Notes\",\n",
      "        \"Wildfire_Notice\": \"Wildfire Notice\",\n",
      "        \"Prescribed_Burn_Notice\": \"Prescribed Burn Notice\",\n",
      "        \"Wildfire_and_Rx_Flag\": \"Wildfire and Rx Flag\",\n",
      "        \"Overlap_Within_1_or_2_Flag\": \"Overlap Within 1 or 2 Years Flag\",\n",
      "        \"Circleness_Scale\": \"Circleness Scale\",\n",
      "        \"Circle_Flag\": \"Circle Flag\",\n",
      "        \"Exclude_From_Summary_Rasters\": \"Exclude From Summary Rasters\",\n",
      "        \"Shape_Length\": \"Shape_Length\",\n",
      "        \"Shape_Area\": \"Shape_Area\"\n",
      "    },\n",
      "    \"geometryType\": \"esriGeometryPolygon\",\n",
      "    \"spatialReference\": {\n",
      "        \"wkid\": 102008,\n",
      "        \"latestWkid\": 102008\n",
      "    },\n",
      "    \"fields\": [\n",
      "        {\n",
      "            \"name\": \"OBJECTID\",\n",
      "            \"type\": \"esriFieldTypeOID\",\n",
      "            \"alias\": \"OBJECTID\"\n",
      "        },\n",
      "        {\n",
      "            \"name\": \"USGS_Assigned_ID\",\n",
      "            \"type\": \"esriFieldTypeInteger\",\n",
      "            \"alias\": \"USGS Assigned ID\"\n",
      "        },\n",
      "        {\n",
      "            \"name\": \"Assigned_Fire_Type\",\n",
      "            \"type\": \"esriFieldTypeString\",\n",
      "            \"alias\": \"Assigned Fire Type\",\n",
      "            \"length\": 100\n",
      "        },\n",
      "        {\n",
      "            \"name\": \"Fire_Year\",\n",
      "            \"type\": \"esriFieldTypeSmallInteger\",\n",
      "            \"alias\": \"Fire Year\"\n",
      "        },\n",
      "        {\n",
      "            \"name\": \"Fire_Polygon_Tier\",\n",
      "            \"type\": \"esriFieldTypeSmallInteger\",\n",
      "            \"alias\": \"Fire Polygon Tier\"\n",
      "        },\n",
      "        {\n",
      "            \"name\": \"Fire_Attribute_Tiers\",\n",
      "            \"type\": \"esriFieldTypeString\",\n",
      "            \"alias\": \"Fire Attribute Tiers\",\n",
      "            \"length\": 30000\n",
      "        },\n",
      "        {\n",
      "            \"name\": \"GIS_Acres\",\n",
      "            \"type\": \"esriFieldTypeDouble\",\n",
      "            \"alias\": \"GIS_Acres\"\n",
      "        },\n",
      "        {\n",
      "            \"name\": \"GIS_Hectares\",\n",
      "            \"type\": \"esriFieldTypeDouble\",\n",
      "            \"alias\": \"GIS_Hectares\"\n",
      "        },\n",
      "        {\n",
      "            \"name\": \"Source_Datasets\",\n",
      "            \"type\": \"esriFieldTypeString\",\n",
      "            \"alias\": \"Source Datasets\",\n",
      "            \"length\": 500000\n",
      "        },\n",
      "        {\n",
      "            \"name\": \"Listed_Fire_Types\",\n",
      "            \"type\": \"esriFieldTypeString\",\n",
      "            \"alias\": \"Listed Fire Types\",\n",
      "            \"length\": 100000\n",
      "        },\n",
      "        {\n",
      "            \"name\": \"Listed_Fire_Names\",\n",
      "            \"type\": \"esriFieldTypeString\",\n",
      "            \"alias\": \"Listed Fire Names\",\n",
      "            \"length\": 100000\n",
      "        },\n",
      "        {\n",
      "            \"name\": \"Listed_Fire_Codes\",\n",
      "            \"type\": \"esriFieldTypeString\",\n",
      "            \"alias\": \"Listed Fire Codes\",\n",
      "            \"length\": 100000\n",
      "        },\n",
      "        {\n",
      "            \"name\": \"Listed_Fire_IDs\",\n",
      "            \"type\": \"esriFieldTypeString\",\n",
      "            \"alias\": \"Listed Fire IDs\",\n",
      "            \"length\": 30000\n",
      "        },\n",
      "        {\n",
      "            \"name\": \"Listed_Fire_IRWIN_IDs\",\n",
      "            \"type\": \"esriFieldTypeString\",\n",
      "            \"alias\": \"Listed Fire IRWIN IDs\",\n",
      "            \"length\": 30000\n",
      "        },\n",
      "        {\n",
      "            \"name\": \"Listed_Fire_Dates\",\n",
      "            \"type\": \"esriFieldTypeString\",\n",
      "            \"alias\": \"Listed Fire Dates\",\n",
      "            \"length\": 500000\n",
      "        },\n",
      "        {\n",
      "            \"name\": \"Listed_Fire_Causes\",\n",
      "            \"type\": \"esriFieldTypeString\",\n",
      "            \"alias\": \"Listed Fire Causes\",\n",
      "            \"length\": 100000\n",
      "        },\n",
      "        {\n",
      "            \"name\": \"Listed_Fire_Cause_Class\",\n",
      "            \"type\": \"esriFieldTypeString\",\n",
      "            \"alias\": \"Listed Fire Cause Class\",\n",
      "            \"length\": 100000\n",
      "        },\n",
      "        {\n",
      "            \"name\": \"Listed_Rx_Reported_Acres\",\n",
      "            \"type\": \"esriFieldTypeString\",\n",
      "            \"alias\": \"Listed Rx Reported Acres\",\n",
      "            \"length\": 10000\n",
      "        },\n",
      "        {\n",
      "            \"name\": \"Listed_Map_Digitize_Methods\",\n",
      "            \"type\": \"esriFieldTypeString\",\n",
      "            \"alias\": \"Listed Map Digitize Methods\",\n",
      "            \"length\": 100000\n",
      "        },\n",
      "        {\n",
      "            \"name\": \"Listed_Notes\",\n",
      "            \"type\": \"esriFieldTypeString\",\n",
      "            \"alias\": \"Listed Notes\",\n",
      "            \"length\": 30000\n",
      "        },\n",
      "        {\n",
      "            \"name\": \"Processing_Notes\",\n",
      "            \"type\": \"esriFieldTypeString\",\n",
      "            \"alias\": \"Processing Notes\",\n",
      "            \"length\": 30000\n",
      "        },\n",
      "        {\n",
      "            \"name\": \"Wildfire_Notice\",\n",
      "            \"type\": \"esriFieldTypeString\",\n",
      "            \"alias\": \"Wildfire Notice\",\n",
      "            \"length\": 700\n",
      "        },\n",
      "        {\n",
      "            \"name\": \"Prescribed_Burn_Notice\",\n",
      "            \"type\": \"esriFieldTypeString\",\n",
      "            \"alias\": \"Prescribed Burn Notice\",\n",
      "            \"length\": 700\n",
      "        },\n",
      "        {\n",
      "            \"name\": \"Wildfire_and_Rx_Flag\",\n",
      "            \"type\": \"esriFieldTypeString\",\n",
      "            \"alias\": \"Wildfire and Rx Flag\",\n",
      "            \"length\": 1000\n",
      "        },\n",
      "        {\n",
      "            \"name\": \"Overlap_Within_1_or_2_Flag\",\n",
      "            \"type\": \"esriFieldTypeString\",\n",
      "            \"alias\": \"Overlap Within 1 or 2 Years Flag\",\n",
      "            \"length\": 8000\n",
      "        },\n",
      "        {\n",
      "            \"name\": \"Circleness_Scale\",\n",
      "            \"type\": \"esriFieldTypeDouble\",\n",
      "            \"alias\": \"Circleness Scale\"\n",
      "        },\n",
      "        {\n",
      "            \"name\": \"Circle_Flag\",\n",
      "            \"type\": \"esriFieldTypeSmallInteger\",\n",
      "            \"alias\": \"Circle Flag\"\n",
      "        },\n",
      "        {\n",
      "            \"name\": \"Exclude_From_Summary_Rasters\",\n",
      "            \"type\": \"esriFieldTypeString\",\n",
      "            \"alias\": \"Exclude From Summary Rasters\",\n",
      "            \"length\": 3\n",
      "        },\n",
      "        {\n",
      "            \"name\": \"Shape_Length\",\n",
      "            \"type\": \"esriFieldTypeDouble\",\n",
      "            \"alias\": \"Shape_Length\"\n",
      "        },\n",
      "        {\n",
      "            \"name\": \"Shape_Area\",\n",
      "            \"type\": \"esriFieldTypeDouble\",\n",
      "            \"alias\": \"Shape_Area\"\n",
      "        }\n",
      "    ]\n",
      "}\n"
     ]
    }
   ],
   "source": [
    "SAMPLE_DATA_FILENAME = \"USGS_Wildland_Fire_Combined_Dataset.json\"\n",
    "#\n",
    "#    Open a file, load it with the geojson loader\n",
    "#\n",
    "#\n",
    "#    This bit of code opens a new wildfire reader, gets the header information and prints it to the screen\n",
    "#\n",
    "print(f\"Attempting to open '{SAMPLE_DATA_FILENAME}' with wildfire.Reader() object\")\n",
    "wfreader = WFReader(SAMPLE_DATA_FILENAME)\n",
    "print()\n",
    "#\n",
    "#    Now print the header - it contains some useful information\n",
    "#\n",
    "header_dict = wfreader.header()\n",
    "header_keys = list(header_dict.keys())\n",
    "print(\"The header has the following keys:\")\n",
    "print(header_keys)\n",
    "print()\n",
    "print(\"Header Dictionary\")\n",
    "print(json.dumps(header_dict,indent=4))"
   ]
  },
  {
   "cell_type": "markdown",
   "id": "e054bb90",
   "metadata": {},
   "source": [
    "## Read in the Wildfire Data\n",
    "\n",
    "\n",
    "The code snippet below uses the wfreader object and its methods that are defined in the Reader module defined and developed by Dr. David W. McDonald for use in DATA 512, a course in the UW MS Data Science degree program. This code is provided under the [Creative Commons](https://creativecommons.org) [CC-BY license](https://creativecommons.org/licenses/by/4.0/) and more information about this can be found at: https://drive.google.com/file/d/1TwCkvdaw0MxJzW7NSDg6XxYQ0dvaS44I/view?usp=sharing"
   ]
  },
  {
   "cell_type": "code",
   "execution_count": 4,
   "id": "308c436c",
   "metadata": {},
   "outputs": [
    {
     "name": "stdout",
     "output_type": "stream",
     "text": [
      "Loaded 10000 features\n",
      "Loaded 20000 features\n",
      "Loaded 30000 features\n",
      "Loaded 40000 features\n",
      "Loaded 50000 features\n",
      "Loaded 60000 features\n",
      "Loaded 70000 features\n",
      "Loaded 80000 features\n",
      "Loaded 90000 features\n",
      "Loaded 100000 features\n",
      "Loaded 110000 features\n",
      "Loaded 120000 features\n",
      "Loaded 130000 features\n",
      "Loaded a total of 135061 features\n",
      "Variable 'feature_list' contains 135061 features\n"
     ]
    }
   ],
   "source": [
    "#\n",
    "#    This sample code will load the whole sample file, or a small amount of the complete dataset.\n",
    "#\n",
    "\n",
    "feature_list = list()\n",
    "feature_count = 0\n",
    "# A rewind() on the reader object makes sure we're at the start of the feature list\n",
    "# This way, we can execute this cell multiple times and get the same result \n",
    "wfreader.rewind()\n",
    "# Now, read through each of the features, saving them as dictionaries into a list\n",
    "feature = wfreader.next()\n",
    "while feature:\n",
    "    feature_list.append(feature)\n",
    "    feature_count += 1\n",
    "    # if we're loading a lot of features, print progress\n",
    "    if (feature_count % 10000) == 0:\n",
    "        print(f\"Loaded {feature_count} features\")\n",
    "    # loaded the max we're allowed then break\n",
    "    feature = wfreader.next()\n",
    "#\n",
    "#    Print the number of items (features) we think we loaded\n",
    "print(f\"Loaded a total of {feature_count} features\")\n",
    "#\n",
    "#    Just a validation check - did all the items we loaded get into the list?\n",
    "print(f\"Variable 'feature_list' contains {len(feature_list)} features\")"
   ]
  },
  {
   "cell_type": "markdown",
   "id": "1fae0011",
   "metadata": {},
   "source": [
    "## Helper Functions\n",
    "\n",
    "1. convert_ring_to_epsg4326 - The function takes one parameter, a list of ESRI:102008 coordinates that will be transformed to EPSG:4326. The function returns a list of coordinates in EPSG:4326. This is required for the geodetic computation step\n",
    "2. shortest_distance_from_place_to_fire_perimeter - The function takes two parameters:\n",
    "    * A place - which is coordinate point (list or tuple with two items, (lat,lon) in decimal degrees EPSG:4326. \n",
    "    * Ring_data - a list of decimal degree coordinates for the fire boundary \n",
    "    The function returns a list containing the shortest distance to the perimeter and the point where that is\n",
    "3. average_distance_from_place_to_fire_perimeter - The function takes two parameters:\n",
    "    * A place - which is coordinate point (list or tuple with two items, (lat,lon) in decimal degrees EPSG:4326\n",
    "    * Ring_data - a list of decimal degree coordinates for the fire boundary\n",
    "    The function returns the average miles from boundary to the place\n",
    "    \n",
    "For this particular analysis, I decided to use the average_distance_from_place_to_fire_perimeter as the distance computation method, however I also believe that the shortest_distance_from_place_to_fire_perimeter is also an accurate estimate of distance from a wildfire.\n"
   ]
  },
  {
   "cell_type": "code",
   "execution_count": 5,
   "id": "bfa1d34f",
   "metadata": {},
   "outputs": [],
   "source": [
    "# define helper functions for the tasks\n",
    "# 1. \n",
    "#\n",
    "#    Transform feature geometry data\n",
    "def convert_ring_to_epsg4326(ring_data=None):\n",
    "    converted_ring = list()\n",
    "    #\n",
    "    # We use a pyproj transformer that converts from ESRI:102008 to EPSG:4326 to transform the list of coordinates\n",
    "    to_epsg4326 = Transformer.from_crs(\"ESRI:102008\",\"EPSG:4326\")\n",
    "    # We'll run through the list transforming each ESRI:102008 x,y coordinate into a decimal degree lat,lon\n",
    "    for coord in ring_data:\n",
    "        lat,lon = to_epsg4326.transform(coord[0],coord[1])\n",
    "        new_coord = lat,lon\n",
    "        converted_ring.append(new_coord)\n",
    "    return converted_ring\n",
    "\n",
    "# 2.\n",
    "#\n",
    "def shortest_distance_from_place_to_fire_perimeter(place=None,ring_data=None):\n",
    "    # convert the ring data to the right coordinate system\n",
    "    ring = convert_ring_to_epsg4326(ring_data)    \n",
    "    # create a epsg4326 compliant object - which is what the WGS84 ellipsoid is\n",
    "    geodcalc = Geod(ellps='WGS84')\n",
    "    closest_point = list()\n",
    "    # run through each point in the converted ring data\n",
    "    for point in ring:\n",
    "        # calculate the distance\n",
    "        d = geodcalc.inv(place[1],place[0],point[1],point[0])\n",
    "        # convert the distance to miles\n",
    "        distance_in_miles = d[2]*0.00062137\n",
    "        # if it's closer to the city than the point we have, save it\n",
    "        if not closest_point:\n",
    "            closest_point.append(distance_in_miles)\n",
    "            closest_point.append(point)\n",
    "        elif closest_point and closest_point[0]>distance_in_miles:\n",
    "            closest_point = list()\n",
    "            closest_point.append(distance_in_miles)\n",
    "            closest_point.append(point)\n",
    "    return closest_point\n",
    "\n",
    "\n",
    "# 3.\n",
    "#    \n",
    "def average_distance_from_place_to_fire_perimeter(place=None,ring_data=None):\n",
    "    # convert the ring data to the right coordinate system\n",
    "    ring = convert_ring_to_epsg4326(ring_data)    \n",
    "    # create a epsg4326 compliant object - which is what the WGS84 ellipsoid is\n",
    "    geodcalc = Geod(ellps='WGS84')\n",
    "    # create a list to store our results\n",
    "    distances_in_meters = list()\n",
    "    # run through each point in the converted ring data\n",
    "    for point in ring:\n",
    "        # calculate the distance\n",
    "        d = geodcalc.inv(place[1],place[0],point[1],point[0])\n",
    "        distances_in_meters.append(d[2])\n",
    "    #print(\"Got the following list:\",distances_in_meters)\n",
    "    # convert meters to miles\n",
    "    distances_in_miles = [meters*0.00062137 for meters in distances_in_meters]\n",
    "    # the esri polygon shape (the ring) requires that the first and last coordinates be identical to 'close the region\n",
    "    # we remove one of them so that we don't bias our average by having two of the same point\n",
    "    distances_in_miles_no_dup = distances_in_miles[1:]\n",
    "    # now, average miles\n",
    "    average = sum(distances_in_miles_no_dup)/len(distances_in_miles_no_dup)\n",
    "    return average"
   ]
  },
  {
   "cell_type": "code",
   "execution_count": 6,
   "id": "8f7072a5",
   "metadata": {},
   "outputs": [],
   "source": [
    "# my city for smoke analysis - Lewiston, Idaho\n",
    "CITY_LOCATIONS = {\n",
    "    'lw' : {\n",
    "        'city': 'Lewiston',\n",
    "        'latlon': [46.4004, -117.0012]\n",
    "    }\n",
    "}"
   ]
  },
  {
   "cell_type": "code",
   "execution_count": 20,
   "id": "c32fdf08",
   "metadata": {},
   "outputs": [
    {
     "name": "stderr",
     "output_type": "stream",
     "text": [
      " 81%|████████████████████████████▍      | 109611/135061 [56:35<12:53, 32.90it/s]"
     ]
    },
    {
     "name": "stdout",
     "output_type": "stream",
     "text": [
      "Attribute value missing\n"
     ]
    },
    {
     "name": "stderr",
     "output_type": "stream",
     "text": [
      " 82%|████████████████████████████▌      | 110228/135061 [56:54<12:01, 34.43it/s]"
     ]
    },
    {
     "name": "stdout",
     "output_type": "stream",
     "text": [
      "Attribute value missing\n"
     ]
    },
    {
     "name": "stderr",
     "output_type": "stream",
     "text": [
      " 82%|████████████████████████████▋      | 110645/135061 [57:08<12:24, 32.81it/s]"
     ]
    },
    {
     "name": "stdout",
     "output_type": "stream",
     "text": [
      "Attribute value missing\n"
     ]
    },
    {
     "name": "stderr",
     "output_type": "stream",
     "text": [
      " 83%|████████████████████████████▉      | 111438/135061 [57:32<11:47, 33.41it/s]"
     ]
    },
    {
     "name": "stdout",
     "output_type": "stream",
     "text": [
      "Attribute value missing\n"
     ]
    },
    {
     "name": "stderr",
     "output_type": "stream",
     "text": [
      " 83%|████████████████████████████▉      | 111783/135061 [57:43<11:57, 32.44it/s]"
     ]
    },
    {
     "name": "stdout",
     "output_type": "stream",
     "text": [
      "Attribute value missing\n"
     ]
    },
    {
     "name": "stderr",
     "output_type": "stream",
     "text": [
      " 83%|████████████████████████████▉      | 111904/135061 [57:47<11:37, 33.22it/s]"
     ]
    },
    {
     "name": "stdout",
     "output_type": "stream",
     "text": [
      "Attribute value missing\n"
     ]
    },
    {
     "name": "stderr",
     "output_type": "stream",
     "text": [
      " 83%|█████████████████████████████▏     | 112418/135061 [58:03<10:19, 36.57it/s]"
     ]
    },
    {
     "name": "stdout",
     "output_type": "stream",
     "text": [
      "Attribute value missing\n",
      "Attribute value missing\n"
     ]
    },
    {
     "name": "stderr",
     "output_type": "stream",
     "text": [
      " 84%|█████████████████████████████▍     | 113415/135061 [58:35<10:40, 33.78it/s]"
     ]
    },
    {
     "name": "stdout",
     "output_type": "stream",
     "text": [
      "Attribute value missing\n"
     ]
    },
    {
     "name": "stderr",
     "output_type": "stream",
     "text": [
      " 84%|█████████████████████████████▍     | 113671/135061 [58:43<10:45, 33.16it/s]"
     ]
    },
    {
     "name": "stdout",
     "output_type": "stream",
     "text": [
      "Attribute value missing\n"
     ]
    },
    {
     "name": "stderr",
     "output_type": "stream",
     "text": [
      " 84%|█████████████████████████████▍     | 113744/135061 [58:45<10:44, 33.09it/s]"
     ]
    },
    {
     "name": "stdout",
     "output_type": "stream",
     "text": [
      "Attribute value missing\n"
     ]
    },
    {
     "name": "stderr",
     "output_type": "stream",
     "text": [
      " 84%|█████████████████████████████▍     | 113773/135061 [58:46<10:31, 33.69it/s]"
     ]
    },
    {
     "name": "stdout",
     "output_type": "stream",
     "text": [
      "Attribute value missing\n"
     ]
    },
    {
     "name": "stderr",
     "output_type": "stream",
     "text": [
      " 84%|█████████████████████████████▍     | 113810/135061 [58:47<10:39, 33.22it/s]"
     ]
    },
    {
     "name": "stdout",
     "output_type": "stream",
     "text": [
      "Attribute value missing\n"
     ]
    },
    {
     "name": "stderr",
     "output_type": "stream",
     "text": [
      " 85%|█████████████████████████████▌     | 114315/135061 [59:03<10:17, 33.59it/s]"
     ]
    },
    {
     "name": "stdout",
     "output_type": "stream",
     "text": [
      "Attribute value missing\n"
     ]
    },
    {
     "name": "stderr",
     "output_type": "stream",
     "text": [
      " 85%|█████████████████████████████▋     | 114328/135061 [59:03<10:00, 34.55it/s]"
     ]
    },
    {
     "name": "stdout",
     "output_type": "stream",
     "text": [
      "Attribute value missing\n"
     ]
    },
    {
     "name": "stderr",
     "output_type": "stream",
     "text": [
      " 86%|█████████████████████████████▉     | 115636/135061 [59:45<09:56, 32.58it/s]"
     ]
    },
    {
     "name": "stdout",
     "output_type": "stream",
     "text": [
      "Attribute value missing\n"
     ]
    },
    {
     "name": "stderr",
     "output_type": "stream",
     "text": [
      " 86%|██████████████████████████████     | 115981/135061 [59:56<09:33, 33.30it/s]"
     ]
    },
    {
     "name": "stdout",
     "output_type": "stream",
     "text": [
      "Attribute value missing\n"
     ]
    },
    {
     "name": "stderr",
     "output_type": "stream",
     "text": [
      " 86%|████████████████████████████▍    | 116242/135061 [1:00:04<09:27, 33.15it/s]"
     ]
    },
    {
     "name": "stdout",
     "output_type": "stream",
     "text": [
      "Attribute value missing\n"
     ]
    },
    {
     "name": "stderr",
     "output_type": "stream",
     "text": [
      " 87%|████████████████████████████▌    | 117091/135061 [1:00:30<08:56, 33.49it/s]"
     ]
    },
    {
     "name": "stdout",
     "output_type": "stream",
     "text": [
      "Attribute value missing\n"
     ]
    },
    {
     "name": "stderr",
     "output_type": "stream",
     "text": [
      " 89%|█████████████████████████████▏   | 119588/135061 [1:01:49<07:41, 33.53it/s]"
     ]
    },
    {
     "name": "stdout",
     "output_type": "stream",
     "text": [
      "Attribute value missing\n"
     ]
    },
    {
     "name": "stderr",
     "output_type": "stream",
     "text": [
      " 89%|█████████████████████████████▏   | 119621/135061 [1:01:50<07:27, 34.54it/s]"
     ]
    },
    {
     "name": "stdout",
     "output_type": "stream",
     "text": [
      "Attribute value missing\n"
     ]
    },
    {
     "name": "stderr",
     "output_type": "stream",
     "text": [
      " 89%|█████████████████████████████▎   | 119758/135061 [1:01:54<07:38, 33.37it/s]"
     ]
    },
    {
     "name": "stdout",
     "output_type": "stream",
     "text": [
      "Attribute value missing\n"
     ]
    },
    {
     "name": "stderr",
     "output_type": "stream",
     "text": [
      " 89%|█████████████████████████████▎   | 119987/135061 [1:02:01<07:23, 33.96it/s]"
     ]
    },
    {
     "name": "stdout",
     "output_type": "stream",
     "text": [
      "Attribute value missing\n"
     ]
    },
    {
     "name": "stderr",
     "output_type": "stream",
     "text": [
      " 89%|█████████████████████████████▎   | 120216/135061 [1:02:08<07:13, 34.26it/s]"
     ]
    },
    {
     "name": "stdout",
     "output_type": "stream",
     "text": [
      "Attribute value missing\n"
     ]
    },
    {
     "name": "stderr",
     "output_type": "stream",
     "text": [
      " 89%|█████████████████████████████▍   | 120437/135061 [1:02:15<07:05, 34.34it/s]"
     ]
    },
    {
     "name": "stdout",
     "output_type": "stream",
     "text": [
      "Attribute value missing\n"
     ]
    },
    {
     "name": "stderr",
     "output_type": "stream",
     "text": [
      " 89%|█████████████████████████████▍   | 120682/135061 [1:02:22<07:08, 33.53it/s]"
     ]
    },
    {
     "name": "stdout",
     "output_type": "stream",
     "text": [
      "Attribute value missing\n"
     ]
    },
    {
     "name": "stderr",
     "output_type": "stream",
     "text": [
      " 89%|█████████████████████████████▌   | 120747/135061 [1:02:24<07:02, 33.88it/s]"
     ]
    },
    {
     "name": "stdout",
     "output_type": "stream",
     "text": [
      "Attribute value missing\n"
     ]
    },
    {
     "name": "stderr",
     "output_type": "stream",
     "text": [
      " 90%|█████████████████████████████▌   | 121016/135061 [1:02:33<06:58, 33.55it/s]"
     ]
    },
    {
     "name": "stdout",
     "output_type": "stream",
     "text": [
      "Attribute value missing\n"
     ]
    },
    {
     "name": "stderr",
     "output_type": "stream",
     "text": [
      " 91%|█████████████████████████████▊   | 122269/135061 [1:03:12<06:32, 32.63it/s]"
     ]
    },
    {
     "name": "stdout",
     "output_type": "stream",
     "text": [
      "Attribute value missing\n"
     ]
    },
    {
     "name": "stderr",
     "output_type": "stream",
     "text": [
      " 91%|█████████████████████████████▉   | 122538/135061 [1:03:20<06:18, 33.05it/s]"
     ]
    },
    {
     "name": "stdout",
     "output_type": "stream",
     "text": [
      "Attribute value missing\n"
     ]
    },
    {
     "name": "stderr",
     "output_type": "stream",
     "text": [
      " 92%|██████████████████████████████▏  | 123767/135061 [1:03:59<05:38, 33.36it/s]"
     ]
    },
    {
     "name": "stdout",
     "output_type": "stream",
     "text": [
      "Attribute value missing\n"
     ]
    },
    {
     "name": "stderr",
     "output_type": "stream",
     "text": [
      " 92%|██████████████████████████████▍  | 124540/135061 [1:04:23<05:13, 33.59it/s]"
     ]
    },
    {
     "name": "stdout",
     "output_type": "stream",
     "text": [
      "Attribute value missing\n"
     ]
    },
    {
     "name": "stderr",
     "output_type": "stream",
     "text": [
      " 93%|██████████████████████████████▌  | 125053/135061 [1:04:39<04:54, 34.02it/s]"
     ]
    },
    {
     "name": "stdout",
     "output_type": "stream",
     "text": [
      "Attribute value missing\n"
     ]
    },
    {
     "name": "stderr",
     "output_type": "stream",
     "text": [
      " 93%|██████████████████████████████▋  | 125751/135061 [1:05:02<04:41, 33.07it/s]"
     ]
    },
    {
     "name": "stdout",
     "output_type": "stream",
     "text": [
      "Attribute value missing\n"
     ]
    },
    {
     "name": "stderr",
     "output_type": "stream",
     "text": [
      " 94%|███████████████████████████████▏ | 127499/135061 [1:05:57<03:44, 33.63it/s]"
     ]
    },
    {
     "name": "stdout",
     "output_type": "stream",
     "text": [
      "Attribute value missing\n"
     ]
    },
    {
     "name": "stderr",
     "output_type": "stream",
     "text": [
      "100%|█████████████████████████████████| 135061/135061 [1:09:51<00:00, 32.22it/s]\n"
     ]
    }
   ],
   "source": [
    "res = [] # a list to hold the response jsons from the wildfire data\n",
    "place = CITY_LOCATIONS[\"lw\"]\n",
    "for wf_feature in tqdm(feature_list):\n",
    "    # a try and except to catch any missing attributes\n",
    "    try:\n",
    "        wf_year = wf_feature['attributes']['Fire_Year']\n",
    "        wf_name = wf_feature['attributes']['Listed_Fire_Names'].split(',')[0]\n",
    "        wf_size = wf_feature['attributes']['GIS_Acres']\n",
    "        wf_type = wf_feature['attributes']['Assigned_Fire_Type']\n",
    "        ring_data = wf_feature['geometry']['rings'][0]\n",
    "    except:\n",
    "        print(\"Attribute value missing\")\n",
    "    if 'rings' in wf_feature['geometry']:\n",
    "        distance = average_distance_from_place_to_fire_perimeter(place['latlon'],ring_data)\n",
    "        # defining the constraints for the scope of this project\n",
    "        if distance <= 1250 and wf_year >= 1963:\n",
    "            wf_feature['attributes']['distance'] = distance\n",
    "            res.append(wf_feature['attributes'])"
   ]
  },
  {
   "cell_type": "code",
   "execution_count": 21,
   "id": "03c40db3",
   "metadata": {},
   "outputs": [],
   "source": [
    "# File path to save the JSON data locally\n",
    "file_path = \"data_fires_lewiston.json\"\n",
    "\n",
    "# Open the file in write mode and save the data as JSON\n",
    "with open(file_path, 'w') as json_file:\n",
    "    json.dump(res, json_file)"
   ]
  },
  {
   "cell_type": "code",
   "execution_count": 22,
   "id": "d4256e24",
   "metadata": {},
   "outputs": [
    {
     "data": {
      "text/plain": [
       "78611"
      ]
     },
     "execution_count": 22,
     "metadata": {},
     "output_type": "execute_result"
    }
   ],
   "source": [
    "# checking the length of the list of dictionary attributes\n",
    "len(res)"
   ]
  },
  {
   "cell_type": "code",
   "execution_count": 24,
   "id": "06f7fddb",
   "metadata": {},
   "outputs": [
    {
     "data": {
      "text/plain": [
       "{'OBJECTID': 14300,\n",
       " 'USGS_Assigned_ID': 14300,\n",
       " 'Assigned_Fire_Type': 'Wildfire',\n",
       " 'Fire_Year': 1963,\n",
       " 'Fire_Polygon_Tier': 1,\n",
       " 'Fire_Attribute_Tiers': '1 (1), 3 (3)',\n",
       " 'GIS_Acres': 25757.09020335899,\n",
       " 'GIS_Hectares': 10423.524591179945,\n",
       " 'Source_Datasets': 'Comb_National_NIFC_Interagency_Fire_Perimeter_History (1), Comb_National_USFS_Northern_Rockies_1889_2003 (1), Comb_National_WFDSS_Interagency_Fire_Perimeter_History (1), Comb_National_USFS_Final_Fire_Perimeter (1)',\n",
       " 'Listed_Fire_Types': 'Wildfire (2), Likely Wildfire (2)',\n",
       " 'Listed_Fire_Names': 'McChord Butte (2), No Fire Name Provided (1), Mcchord Butte (1)',\n",
       " 'Listed_Fire_Codes': 'No code provided (4)',\n",
       " 'Listed_Fire_IDs': '',\n",
       " 'Listed_Fire_IRWIN_IDs': '',\n",
       " 'Listed_Fire_Dates': 'Listed Wildfire Discovery Date(s): 1963-07-28 (1) | Listed Other Fire Date(s): 2019-09-13 - NIFC DATE_CUR field (1), 2019-09-13 - REVDATE field (1)',\n",
       " 'Listed_Fire_Causes': '',\n",
       " 'Listed_Fire_Cause_Class': 'Undetermined (4)',\n",
       " 'Listed_Rx_Reported_Acres': None,\n",
       " 'Listed_Map_Digitize_Methods': 'Unknown (1)',\n",
       " 'Listed_Notes': '',\n",
       " 'Processing_Notes': '',\n",
       " 'Wildfire_Notice': 'Wildfire mapping prior to 1984 was inconsistent, infrequent, and done without the aid of more modern fire mapping methods (GPS and satellite imagery). Areas burned prior to 1984 in this dataset represent only a fraction of what actually burned. While areas burned on or after 1984 are much more accurate and complete, errors still can and do occur. This dataset represents the most complete set of digitized polygon fire data available to the public that we, the authors, were able to collect. It is not a complete collection of all wildfires burned during the time period it represents.',\n",
       " 'Prescribed_Burn_Notice': 'Prescribed fire data in this dataset represents only a fraction of the area burned in prescribed burns across all years due to lack of reporting, particularly on private lands. The missing prescribed burn data becomes more pronounced further back in time, particularly in the southeastern U.S.; however, errors and omissions still occur through the most recent years in this dataset. This dataset represents the most complete set of digitized polygon fire data available to the public that we, the authors, were able to collect. It is not a complete collection of all prescribed burns burned during the time period it represents.',\n",
       " 'Wildfire_and_Rx_Flag': None,\n",
       " 'Overlap_Within_1_or_2_Flag': None,\n",
       " 'Circleness_Scale': 0.36481483475390875,\n",
       " 'Circle_Flag': None,\n",
       " 'Exclude_From_Summary_Rasters': 'No',\n",
       " 'Shape_Length': 59920.576713408,\n",
       " 'Shape_Area': 104235245.91179945,\n",
       " 'distance': 132.13412833589882}"
      ]
     },
     "execution_count": 24,
     "metadata": {},
     "output_type": "execute_result"
    }
   ],
   "source": [
    "# displaying one of the values in res\n",
    "res[1]"
   ]
  },
  {
   "cell_type": "markdown",
   "id": "5fe5d064",
   "metadata": {},
   "source": [
    "## Results from the AQI API"
   ]
  },
  {
   "cell_type": "code",
   "execution_count": 189,
   "id": "46e73fa3",
   "metadata": {},
   "outputs": [
    {
     "data": {
      "text/plain": [
       "{'1986': 34.51851851851852,\n",
       " '1987': 36.03448275862069,\n",
       " '1988': 36.22222222222222,\n",
       " '1989': 33.60683760683761,\n",
       " '1990': 29.28421052631579,\n",
       " '1991': 38.77777777777778,\n",
       " '1992': 27.69747899159664,\n",
       " '1993': 33.68595041322314,\n",
       " '1994': 28.33613445378151,\n",
       " '1995': 25.552845528455286,\n",
       " '1996': 23.96694214876033,\n",
       " '1997': 25.72641509433962,\n",
       " '1998': 24.47747747747748,\n",
       " '1999': 34.77477477477478,\n",
       " '2000': 38.44748858447488,\n",
       " '2001': 34.02832618025751,\n",
       " '2002': 31.381132075471697,\n",
       " '2003': 21.96712328767123,\n",
       " '2004': 22.13565536205316,\n",
       " '2005': 19.678341013824884,\n",
       " '2006': 21.56583969465649,\n",
       " '2007': 21.169617893755824,\n",
       " '2008': 21.0757299270073,\n",
       " '2009': 20.994366197183098,\n",
       " '2010': 18.10810810810811,\n",
       " '2011': 18.32264150943396,\n",
       " '2012': 20.44177093358999,\n",
       " '2013': 22.351224105461394,\n",
       " '2014': 19.526621490803485,\n",
       " '2015': 22.881278538812786,\n",
       " '2016': 16.399803536345775,\n",
       " '2017': 22.630940343781596,\n",
       " '2018': 21.763012181616833,\n",
       " '2019': 17.247895229186156,\n",
       " '2020': 17.84540636042403,\n",
       " '2021': 21.00349956255468,\n",
       " '2022': 19.945866141732285,\n",
       " '2023': 15.791666666666666}"
      ]
     },
     "execution_count": 189,
     "metadata": {},
     "output_type": "execute_result"
    }
   ],
   "source": [
    "# read in the file that contains AQI data for areas in and around Lewiston Idaho.\n",
    "# this data was obtained from the aqi_data_acquistion.ipynb \n",
    "with open('aqi_lewiston.json', 'r') as file:\n",
    "    aqi_year = json.load(file)\n",
    "aqi_year"
   ]
  },
  {
   "cell_type": "markdown",
   "id": "29a973a1",
   "metadata": {},
   "source": [
    "## Creating a Smoke Estimate \n",
    "\n",
    "After going through the attributes of the fires recorded in the [metadata of the USGS dataset](https://www.sciencebase.gov/catalog/file/get/61aa537dd34eb622f699df81?f=__disk__d0%2F63%2F53%2Fd063532049be8e1bc83d1d3047b4df1a5cb56f15&transform=1&allowOpen=true), I believe that an appropriate smoke estimate can be created\n",
    "from 3 attributes:\n",
    "1. GIS_Hectares\n",
    "2. distance\n",
    "3. Assigned_Fire_Type\n",
    "\n",
    "**GIS_Hectares** : The GIS calculated hectares of the fire polygon calculated by using the Calculate Geometry tool in ArcGIS Pro.\n",
    "\n",
    "**distance** : The average miles from the fire boundary to the Lewiston, Idaho.\n",
    "\n",
    "**Assigned_Fire_Type** : An attribute that can take 5 values\n",
    "\n",
    "1. Likely Wildfire : The fire was likely a wildfire but there is no way to confirm this.\n",
    "2. Wildfire : The fire is a confirmed wildfire based on the available attributes.\n",
    "3. Prescribed Wildfire : The fire is a confirmed prescribed fire based on the available attributes.\n",
    "4. Unknown - Likely Wildfire : This polygon came from MTBS and was labeled \"Unknown\". However, research done by Karen Short indicates that the fire is likely a wildfire.\n",
    "5. Unknown - Likely Prescribed Wildfire : This polygon came from MTBS and was labeled \"Unknown\". However, research done by Karen Short indicates that the fire is likely a prescribed fire.\n",
    "\n",
    "The values where the attribute has the word \"likely\" also leaves room for a scenario where this fire may not have occurred at all. However, when it takes values like \"Prescribed Wildfire\" and \"Wildfire\", there is some assurance of \n",
    "this fire having occurred. \n",
    "\n",
    "Based on this I believe that the values that this attribute takes can be weighted based on assurance of a fire\n",
    "taking place\n",
    "1. Likely Wildfire : 15 (The assurance of the wildfire occurring is not given)\n",
    "2. Wildfire : 20 (assured wildfire)\n",
    "3. Prescribed Wildfire : 12.5 (assured prescribed wildfire which burns fewer acres than compared to wildfires)\n",
    "4. Unknown - Likely Wildfire : 20 (research indicates that this is an assured wildfire)\n",
    "5. Unknown - Likely Prescribed Wildfire : 12.5 (research indicates that this is an assured prescribed wildfire)\n",
    "6. Other : 1\n",
    "\n",
    "\n",
    "**smoke_estimate = (GIS_Hectares/distance) * Assigned_Fire_Type_Code**  \n",
    "\n",
    "**note: the GIS_Hectares is converted to Miles^2 before dividing it by the distance calculated in Miles**"
   ]
  },
  {
   "cell_type": "code",
   "execution_count": 196,
   "id": "a99ef523",
   "metadata": {},
   "outputs": [
    {
     "name": "stderr",
     "output_type": "stream",
     "text": [
      "100%|████████████████████████████████████| 78611/78611 [00:00<00:00, 84685.76it/s]\n"
     ]
    }
   ],
   "source": [
    "res_smoke = res\n",
    "# the assigned_fire_type is mapped to numbers that signify the weight that it would give in the smoke estimate\n",
    "assigned_fire_type_code = {\n",
    "    'Likely Wildfire': 15,\n",
    "    'Wildfire': 20,\n",
    "    'Prescribed Wildfire': 12.5,\n",
    "    'Unknown - Likely Wildfire': 20,\n",
    "    'Unknown - Likely Prescribed Wildfire': 12.5\n",
    "}\n",
    "for wf_feature in tqdm(res_smoke):\n",
    "    try:\n",
    "        fire_type = wf_feature['Assigned_Fire_Type']\n",
    "        fire_area = wf_feature['GIS_Hectares']/258.998811 #to convert the area to miles^2 \n",
    "        fire_distance = wf_feature['distance']\n",
    "    except:\n",
    "        print(\"There is a missing attribute\")\n",
    "    if 'Assigned_Fire_Type' in wf_feature:\n",
    "        if fire_type in assigned_fire_type_code:\n",
    "            smoke_estimate = (fire_area/fire_distance) * assigned_fire_type_code[fire_type]\n",
    "        else:\n",
    "            smoke_estimate = fire_area/fire_distance\n",
    "        wf_feature['smoke_estimate'] = smoke_estimate"
   ]
  },
  {
   "cell_type": "code",
   "execution_count": 197,
   "id": "5c3679ca",
   "metadata": {},
   "outputs": [
    {
     "data": {
      "text/plain": [
       "{'OBJECTID': 14299,\n",
       " 'USGS_Assigned_ID': 14299,\n",
       " 'Assigned_Fire_Type': 'Wildfire',\n",
       " 'Fire_Year': 1963,\n",
       " 'Fire_Polygon_Tier': 1,\n",
       " 'Fire_Attribute_Tiers': '1 (1), 3 (3)',\n",
       " 'GIS_Acres': 40992.45827111476,\n",
       " 'GIS_Hectares': 16589.05930244248,\n",
       " 'Source_Datasets': 'Comb_National_NIFC_Interagency_Fire_Perimeter_History (1), Comb_SubState_MNSRBOPNCA_Wildfires_Historic (1), Comb_SubState_BLM_Idaho_NOC_FPER_Historica_Fire_Polygons (1), Comb_National_BLM_Fire_Perimeters_LADP (1)',\n",
       " 'Listed_Fire_Types': 'Wildfire (1), Likely Wildfire (3)',\n",
       " 'Listed_Fire_Names': 'RATTLESNAKE (4)',\n",
       " 'Listed_Fire_Codes': 'No code provided (4)',\n",
       " 'Listed_Fire_IDs': '1963-NA-000000 (2)',\n",
       " 'Listed_Fire_IRWIN_IDs': '',\n",
       " 'Listed_Fire_Dates': 'Listed Wildfire Discovery Date(s): 1963-08-06 (3) | Listed Wildfire Controlled Date(s): 1963-12-31 (3)',\n",
       " 'Listed_Fire_Causes': 'Unknown (3)',\n",
       " 'Listed_Fire_Cause_Class': 'Undetermined (4)',\n",
       " 'Listed_Rx_Reported_Acres': None,\n",
       " 'Listed_Map_Digitize_Methods': 'Digitized-Topo (4)',\n",
       " 'Listed_Notes': '',\n",
       " 'Processing_Notes': '',\n",
       " 'Wildfire_Notice': 'Wildfire mapping prior to 1984 was inconsistent, infrequent, and done without the aid of more modern fire mapping methods (GPS and satellite imagery). Areas burned prior to 1984 in this dataset represent only a fraction of what actually burned. While areas burned on or after 1984 are much more accurate and complete, errors still can and do occur. This dataset represents the most complete set of digitized polygon fire data available to the public that we, the authors, were able to collect. It is not a complete collection of all wildfires burned during the time period it represents.',\n",
       " 'Prescribed_Burn_Notice': 'Prescribed fire data in this dataset represents only a fraction of the area burned in prescribed burns across all years due to lack of reporting, particularly on private lands. The missing prescribed burn data becomes more pronounced further back in time, particularly in the southeastern U.S.; however, errors and omissions still occur through the most recent years in this dataset. This dataset represents the most complete set of digitized polygon fire data available to the public that we, the authors, were able to collect. It is not a complete collection of all prescribed burns burned during the time period it represents.',\n",
       " 'Wildfire_and_Rx_Flag': None,\n",
       " 'Overlap_Within_1_or_2_Flag': None,\n",
       " 'Circleness_Scale': 0.38535519109185146,\n",
       " 'Circle_Flag': None,\n",
       " 'Exclude_From_Summary_Rasters': 'No',\n",
       " 'Shape_Length': 73550.42811804128,\n",
       " 'Shape_Area': 165890593.0244248,\n",
       " 'distance': 147.46343118654096,\n",
       " 'smoke_estimate': 8.686996571496037}"
      ]
     },
     "execution_count": 197,
     "metadata": {},
     "output_type": "execute_result"
    }
   ],
   "source": [
    "# viewing the first element of the list\n",
    "res_smoke[0]"
   ]
  },
  {
   "cell_type": "code",
   "execution_count": 211,
   "id": "9a773a25",
   "metadata": {},
   "outputs": [
    {
     "name": "stderr",
     "output_type": "stream",
     "text": [
      "100%|███████████████████████████████████| 78611/78611 [00:00<00:00, 265858.01it/s]\n"
     ]
    },
    {
     "data": {
      "text/html": [
       "<div>\n",
       "<style scoped>\n",
       "    .dataframe tbody tr th:only-of-type {\n",
       "        vertical-align: middle;\n",
       "    }\n",
       "\n",
       "    .dataframe tbody tr th {\n",
       "        vertical-align: top;\n",
       "    }\n",
       "\n",
       "    .dataframe thead th {\n",
       "        text-align: right;\n",
       "    }\n",
       "</style>\n",
       "<table border=\"1\" class=\"dataframe\">\n",
       "  <thead>\n",
       "    <tr style=\"text-align: right;\">\n",
       "      <th></th>\n",
       "      <th>USGS_Assigned_ID</th>\n",
       "      <th>Assigned_Fire_Type</th>\n",
       "      <th>Fire_Year</th>\n",
       "      <th>GIS_Hectares</th>\n",
       "      <th>Listed_Fire_Names</th>\n",
       "      <th>distance</th>\n",
       "      <th>smoke_estimate</th>\n",
       "    </tr>\n",
       "  </thead>\n",
       "  <tbody>\n",
       "    <tr>\n",
       "      <th>0</th>\n",
       "      <td>14299</td>\n",
       "      <td>Wildfire</td>\n",
       "      <td>1963</td>\n",
       "      <td>16589.059302</td>\n",
       "      <td>RATTLESNAKE (4)</td>\n",
       "      <td>147.463431</td>\n",
       "      <td>8.686997</td>\n",
       "    </tr>\n",
       "    <tr>\n",
       "      <th>1</th>\n",
       "      <td>14300</td>\n",
       "      <td>Wildfire</td>\n",
       "      <td>1963</td>\n",
       "      <td>10423.524591</td>\n",
       "      <td>McChord Butte (2), No Fire Name Provided (1), ...</td>\n",
       "      <td>132.134128</td>\n",
       "      <td>6.091606</td>\n",
       "    </tr>\n",
       "    <tr>\n",
       "      <th>2</th>\n",
       "      <td>14301</td>\n",
       "      <td>Wildfire</td>\n",
       "      <td>1963</td>\n",
       "      <td>18424.208617</td>\n",
       "      <td>WILLOW CREEK (16), EAST CRANE CREEK (4), Crane...</td>\n",
       "      <td>141.476152</td>\n",
       "      <td>10.056291</td>\n",
       "    </tr>\n",
       "    <tr>\n",
       "      <th>3</th>\n",
       "      <td>14302</td>\n",
       "      <td>Wildfire</td>\n",
       "      <td>1963</td>\n",
       "      <td>4206.711433</td>\n",
       "      <td>SOUTH CANYON CREEK (4), No Fire Name Provided (1)</td>\n",
       "      <td>227.902521</td>\n",
       "      <td>1.425364</td>\n",
       "    </tr>\n",
       "    <tr>\n",
       "      <th>4</th>\n",
       "      <td>14303</td>\n",
       "      <td>Wildfire</td>\n",
       "      <td>1963</td>\n",
       "      <td>4040.221900</td>\n",
       "      <td>WEBB CREEK (4)</td>\n",
       "      <td>159.883818</td>\n",
       "      <td>1.951340</td>\n",
       "    </tr>\n",
       "  </tbody>\n",
       "</table>\n",
       "</div>"
      ],
      "text/plain": [
       "   USGS_Assigned_ID Assigned_Fire_Type  Fire_Year  GIS_Hectares  \\\n",
       "0             14299           Wildfire       1963  16589.059302   \n",
       "1             14300           Wildfire       1963  10423.524591   \n",
       "2             14301           Wildfire       1963  18424.208617   \n",
       "3             14302           Wildfire       1963   4206.711433   \n",
       "4             14303           Wildfire       1963   4040.221900   \n",
       "\n",
       "                                   Listed_Fire_Names    distance  \\\n",
       "0                                    RATTLESNAKE (4)  147.463431   \n",
       "1  McChord Butte (2), No Fire Name Provided (1), ...  132.134128   \n",
       "2  WILLOW CREEK (16), EAST CRANE CREEK (4), Crane...  141.476152   \n",
       "3  SOUTH CANYON CREEK (4), No Fire Name Provided (1)  227.902521   \n",
       "4                                     WEBB CREEK (4)  159.883818   \n",
       "\n",
       "   smoke_estimate  \n",
       "0        8.686997  \n",
       "1        6.091606  \n",
       "2       10.056291  \n",
       "3        1.425364  \n",
       "4        1.951340  "
      ]
     },
     "execution_count": 211,
     "metadata": {},
     "output_type": "execute_result"
    }
   ],
   "source": [
    "# extract only the features that are required for analysis and save it in a list: res_mini\n",
    "res_mini = []\n",
    "for wf_feature in tqdm(res_smoke):\n",
    "    mini_feature = {}\n",
    "    mini_feature['USGS_Assigned_ID'] = wf_feature['USGS_Assigned_ID']\n",
    "    mini_feature['Assigned_Fire_Type'] = wf_feature['Assigned_Fire_Type']\n",
    "    mini_feature['Fire_Year'] = wf_feature['Fire_Year']\n",
    "    mini_feature['GIS_Hectares'] = wf_feature['GIS_Hectares']\n",
    "    mini_feature['Listed_Fire_Names'] = wf_feature['Listed_Fire_Names']\n",
    "    mini_feature['distance'] = wf_feature['distance']\n",
    "    mini_feature['smoke_estimate'] = wf_feature['smoke_estimate']\n",
    "    res_mini.append(mini_feature)\n",
    "    \n",
    "# convert res_mini to a dataframe\n",
    "df_mini = pd.DataFrame(res_mini)\n",
    "df_mini.head()"
   ]
  },
  {
   "cell_type": "code",
   "execution_count": 212,
   "id": "ef397aa1",
   "metadata": {},
   "outputs": [
    {
     "data": {
      "text/plain": [
       "count    7.861100e+04\n",
       "mean     1.683450e-01\n",
       "std      1.642836e+00\n",
       "min      3.084128e-10\n",
       "25%      2.488391e-04\n",
       "50%      2.103956e-03\n",
       "75%      2.069164e-02\n",
       "max      1.435315e+02\n",
       "Name: smoke_estimate, dtype: float64"
      ]
     },
     "execution_count": 212,
     "metadata": {},
     "output_type": "execute_result"
    }
   ],
   "source": [
    "# viewing the distribution of values for the smoke_estimate attribute\n",
    "df_mini['smoke_estimate'].describe()"
   ]
  },
  {
   "cell_type": "code",
   "execution_count": 213,
   "id": "8f9423c7",
   "metadata": {},
   "outputs": [],
   "source": [
    "# create a copy of this dataframe\n",
    "df_mini_copy = df_mini"
   ]
  },
  {
   "cell_type": "code",
   "execution_count": 214,
   "id": "956c0a4b",
   "metadata": {},
   "outputs": [],
   "source": [
    "# filtering out values of the smoke_estimate attribute that are lesser than two because this would mean\n",
    "# that the wildfire occurred at a large distance away from the city or that the area of land that the fire\n",
    "# burnt was small or both. This would mean that the fire would not affect the overall AQI of the my city\n",
    "df_mini = df_mini[df_mini['smoke_estimate'] > 2]"
   ]
  },
  {
   "cell_type": "code",
   "execution_count": 215,
   "id": "692da119",
   "metadata": {},
   "outputs": [
    {
     "data": {
      "text/plain": [
       "Fire_Year\n",
       "1963     8.278298\n",
       "1964     2.660020\n",
       "1965    10.897260\n",
       "1966     3.994472\n",
       "1967     7.773989\n",
       "Name: smoke_estimate, dtype: float64"
      ]
     },
     "execution_count": 215,
     "metadata": {},
     "output_type": "execute_result"
    }
   ],
   "source": [
    "# Performing a groupby on year and aggregation on mean to get the average smoke_estimate for each year\n",
    "result = df_mini.groupby(\"Fire_Year\")[\"smoke_estimate\"].mean()\n",
    "result.head()"
   ]
  },
  {
   "cell_type": "code",
   "execution_count": 317,
   "id": "46c1620c",
   "metadata": {},
   "outputs": [
    {
     "data": {
      "text/html": [
       "<div>\n",
       "<style scoped>\n",
       "    .dataframe tbody tr th:only-of-type {\n",
       "        vertical-align: middle;\n",
       "    }\n",
       "\n",
       "    .dataframe tbody tr th {\n",
       "        vertical-align: top;\n",
       "    }\n",
       "\n",
       "    .dataframe thead th {\n",
       "        text-align: right;\n",
       "    }\n",
       "</style>\n",
       "<table border=\"1\" class=\"dataframe\">\n",
       "  <thead>\n",
       "    <tr style=\"text-align: right;\">\n",
       "      <th></th>\n",
       "      <th>Fire_Year</th>\n",
       "      <th>smoke_estimate</th>\n",
       "    </tr>\n",
       "  </thead>\n",
       "  <tbody>\n",
       "    <tr>\n",
       "      <th>0</th>\n",
       "      <td>1963</td>\n",
       "      <td>8.278298</td>\n",
       "    </tr>\n",
       "    <tr>\n",
       "      <th>1</th>\n",
       "      <td>1964</td>\n",
       "      <td>2.660020</td>\n",
       "    </tr>\n",
       "    <tr>\n",
       "      <th>2</th>\n",
       "      <td>1965</td>\n",
       "      <td>10.897260</td>\n",
       "    </tr>\n",
       "    <tr>\n",
       "      <th>3</th>\n",
       "      <td>1966</td>\n",
       "      <td>3.994472</td>\n",
       "    </tr>\n",
       "    <tr>\n",
       "      <th>4</th>\n",
       "      <td>1967</td>\n",
       "      <td>7.773989</td>\n",
       "    </tr>\n",
       "  </tbody>\n",
       "</table>\n",
       "</div>"
      ],
      "text/plain": [
       "   Fire_Year  smoke_estimate\n",
       "0       1963        8.278298\n",
       "1       1964        2.660020\n",
       "2       1965       10.897260\n",
       "3       1966        3.994472\n",
       "4       1967        7.773989"
      ]
     },
     "execution_count": 317,
     "metadata": {},
     "output_type": "execute_result"
    }
   ],
   "source": [
    "# convert the result to a dataframe\n",
    "result_df = result.reset_index()\n",
    "result_df.head()"
   ]
  },
  {
   "cell_type": "code",
   "execution_count": 220,
   "id": "bfd8a0c9",
   "metadata": {
    "scrolled": true
   },
   "outputs": [
    {
     "data": {
      "image/png": "[encoded data removed]",
      "text/plain": [
       "<Figure size 864x432 with 1 Axes>"
      ]
     },
     "metadata": {
      "needs_background": "light"
     },
     "output_type": "display_data"
    }
   ],
   "source": [
    "# Visualize the smoke estimate over time\n",
    "result_df['Fire_Year'] = pd.to_datetime(result_df['Fire_Year'], format='%Y')\n",
    "result_df.set_index('Fire_Year', inplace=True)\n",
    "plt.figure(figsize=(12, 6))\n",
    "plt.plot(result_df['smoke_estimate'])\n",
    "plt.title('Smoke Estimate Over Time')\n",
    "plt.xlabel('Year')\n",
    "plt.ylabel('Smoke Estimate')\n",
    "plt.show()\n"
   ]
  },
  {
   "cell_type": "markdown",
   "id": "44c39c14",
   "metadata": {},
   "source": [
    "# Time Series Forecasting\n",
    "\n",
    "For this project, the Autoregressor model is chosen to forecast future values. An AR model takes into account the relationship between the current value and past values, which is crucial for modeling and forecasting time series data accurately. By including lagged values, the model can capture the influence of previous observations on future observations. The lag_order attribute helps define the number of past data points to look at before making a prediction for the future and this is helpful in this particular case since there is some uncertainty about the results in the earlier years. Additionally, AR models are relatively simple and easy to interpret. They rely on a small number of parameters."
   ]
  },
  {
   "cell_type": "code",
   "execution_count": 291,
   "id": "a6a3b760",
   "metadata": {},
   "outputs": [
    {
     "name": "stderr",
     "output_type": "stream",
     "text": [
      "/Users/mithalishashidhar/opt/anaconda3/lib/python3.9/site-packages/statsmodels/tsa/base/tsa_model.py:471: ValueWarning: A date index has been provided, but it has no associated frequency information and so will be ignored when e.g. forecasting.\n",
      "  self._init_dates(dates, freq)\n",
      "/Users/mithalishashidhar/opt/anaconda3/lib/python3.9/site-packages/statsmodels/tsa/base/tsa_model.py:834: ValueWarning: No supported index is available. Prediction results will be given with an integer index beginning at `start`.\n",
      "  return get_prediction_index(\n",
      "/Users/mithalishashidhar/opt/anaconda3/lib/python3.9/site-packages/statsmodels/tsa/deterministic.py:302: UserWarning: Only PeriodIndexes, DatetimeIndexes with a frequency set, RangesIndexes, and Index with a unit increment support extending. The index is set will contain the position relative to the data length.\n",
      "  fcast_index = self._extend_index(index, steps, forecast_index)\n"
     ]
    }
   ],
   "source": [
    "# import the AutoReg model from statsmodel\n",
    "from statsmodels.tsa.ar_model import AutoReg\n",
    "# Fit the AutoReg model\n",
    "lag_order = 8  # number of historical data to look at to make predictions in the future\n",
    "model3 = AutoReg(data['smoke_estimate'], lags=lag_order)\n",
    "model_fit3 = model3.fit()\n",
    "\n",
    "# Forecast future values\n",
    "forecast3 = model_fit3.predict(start=0, end=len(data) + 25)  # Steps indicate the number of future points to predict for"
   ]
  },
  {
   "cell_type": "code",
   "execution_count": 293,
   "id": "888c367b",
   "metadata": {},
   "outputs": [
    {
     "data": {
      "text/plain": [
       "[nan,\n",
       " nan,\n",
       " nan,\n",
       " nan,\n",
       " nan,\n",
       " nan,\n",
       " nan,\n",
       " nan,\n",
       " 7.285568609510407,\n",
       " 5.65951232054586,\n",
       " 7.1270504166006585,\n",
       " 6.097530522854212,\n",
       " 5.604780756446536,\n",
       " 6.655364517225046,\n",
       " 4.586141443961763,\n",
       " 5.775089174745524,\n",
       " 6.159228544627376,\n",
       " 6.249502881773239,\n",
       " 6.328262842732881,\n",
       " 7.341310439116973,\n",
       " 6.289725628781761,\n",
       " 6.383804102531846,\n",
       " 6.714715574393947,\n",
       " 6.284704167632556,\n",
       " 6.702544148014889,\n",
       " 4.6781120235502245,\n",
       " 7.291243082456165,\n",
       " 6.5747971277926265,\n",
       " 6.933978636131904,\n",
       " 6.2716721235346835,\n",
       " 8.237274423797249,\n",
       " 5.435640146654556,\n",
       " 7.193925592876103,\n",
       " 6.158313198350312,\n",
       " 5.898173752721435,\n",
       " 6.301909127001536,\n",
       " 6.61276837655729,\n",
       " 4.707263927254309,\n",
       " 6.734701342858147,\n",
       " 6.753695172221829,\n",
       " 6.359521390445621,\n",
       " 7.174669641870015,\n",
       " 6.641748090128547,\n",
       " 5.500102109569181,\n",
       " 5.9574554436960945,\n",
       " 6.643212371482519,\n",
       " 7.086299692713892,\n",
       " 6.6290239570035965,\n",
       " 7.325985099875336,\n",
       " 6.551849639377901,\n",
       " 6.51393065466158,\n",
       " 6.191362952648081,\n",
       " 6.680759609147382,\n",
       " 6.62559104945687,\n",
       " 7.83919036357046,\n",
       " 6.862798681477236,\n",
       " 7.940206429467468,\n",
       " 6.815661124037419,\n",
       " 7.117747382709929,\n",
       " 7.1906550294398475,\n",
       " 7.100636941092696,\n",
       " 6.890199449959543,\n",
       " 7.411005227174635,\n",
       " 6.592534946158667,\n",
       " 7.076306638552036,\n",
       " 6.800235653162736,\n",
       " 6.831447952449011,\n",
       " 6.792780299224634,\n",
       " 6.841642461085995,\n",
       " 6.676988185137474,\n",
       " 6.820879409924105,\n",
       " 6.681376687896311,\n",
       " 6.7398661455111855,\n",
       " 6.700309475091022,\n",
       " 6.707914603887732,\n",
       " 6.676109586898142,\n",
       " 6.7043894426921,\n",
       " 6.661544367604387,\n",
       " 6.687107453210562,\n",
       " 6.6638996697135084,\n",
       " 6.670912975539538,\n",
       " 6.66099280563367,\n",
       " 6.6658803651506]"
      ]
     },
     "execution_count": 293,
     "metadata": {},
     "output_type": "execute_result"
    }
   ],
   "source": [
    "# viewing the forecast\n",
    "list(forecast3)"
   ]
  },
  {
   "cell_type": "code",
   "execution_count": 297,
   "id": "e7f1f164",
   "metadata": {},
   "outputs": [],
   "source": [
    "# removing the first 8 nan values in the forecasted data which is a result of the lag set to 8\n",
    "import math\n",
    "forecast3 = [x for x in forecast3 if not math.isnan(x)]"
   ]
  },
  {
   "cell_type": "code",
   "execution_count": 298,
   "id": "251b593f",
   "metadata": {},
   "outputs": [
    {
     "data": {
      "text/plain": [
       "{1971: 7.285568609510407,\n",
       " 1972: 5.65951232054586,\n",
       " 1973: 7.1270504166006585,\n",
       " 1974: 6.097530522854212,\n",
       " 1975: 5.604780756446536,\n",
       " 1976: 6.655364517225046,\n",
       " 1977: 4.586141443961763,\n",
       " 1978: 5.775089174745524,\n",
       " 1979: 6.159228544627376,\n",
       " 1980: 6.249502881773239,\n",
       " 1981: 6.328262842732881,\n",
       " 1982: 7.341310439116973,\n",
       " 1983: 6.289725628781761,\n",
       " 1984: 6.383804102531846,\n",
       " 1985: 6.714715574393947,\n",
       " 1986: 6.284704167632556,\n",
       " 1987: 6.702544148014889,\n",
       " 1988: 4.6781120235502245,\n",
       " 1989: 7.291243082456165,\n",
       " 1990: 6.5747971277926265,\n",
       " 1991: 6.933978636131904,\n",
       " 1992: 6.2716721235346835,\n",
       " 1993: 8.237274423797249,\n",
       " 1994: 5.435640146654556,\n",
       " 1995: 7.193925592876103,\n",
       " 1996: 6.158313198350312,\n",
       " 1997: 5.898173752721435,\n",
       " 1998: 6.301909127001536,\n",
       " 1999: 6.61276837655729,\n",
       " 2000: 4.707263927254309,\n",
       " 2001: 6.734701342858147,\n",
       " 2002: 6.753695172221829,\n",
       " 2003: 6.359521390445621,\n",
       " 2004: 7.174669641870015,\n",
       " 2005: 6.641748090128547,\n",
       " 2006: 5.500102109569181,\n",
       " 2007: 5.9574554436960945,\n",
       " 2008: 6.643212371482519,\n",
       " 2009: 7.086299692713892,\n",
       " 2010: 6.6290239570035965,\n",
       " 2011: 7.325985099875336,\n",
       " 2012: 6.551849639377901,\n",
       " 2013: 6.51393065466158,\n",
       " 2014: 6.191362952648081,\n",
       " 2015: 6.680759609147382,\n",
       " 2016: 6.62559104945687,\n",
       " 2017: 7.83919036357046,\n",
       " 2018: 6.862798681477236,\n",
       " 2019: 7.940206429467468,\n",
       " 2020: 6.815661124037419,\n",
       " 2021: 7.117747382709929,\n",
       " 2022: 7.1906550294398475,\n",
       " 2023: 7.100636941092696}"
      ]
     },
     "execution_count": 298,
     "metadata": {},
     "output_type": "execute_result"
    }
   ],
   "source": [
    "# Creating a dictionary to hold the year and value predicted for that year to visualize the results\n",
    "predicted_values = {}\n",
    "i=0\n",
    "for year in range(1971, 2024):\n",
    "    predicted_values[year] = forecast3[i]\n",
    "    i += 1\n",
    "predicted_values"
   ]
  },
  {
   "cell_type": "code",
   "execution_count": 318,
   "id": "0f528a41",
   "metadata": {},
   "outputs": [],
   "source": [
    "# save the file locally\n",
    "with open('predicted_values.json', 'w') as file:\n",
    "    json.dump(predicted_values, file)"
   ]
  },
  {
   "cell_type": "code",
   "execution_count": 311,
   "id": "01e8166f",
   "metadata": {},
   "outputs": [
    {
     "data": {
      "text/html": [
       "<div>\n",
       "<style scoped>\n",
       "    .dataframe tbody tr th:only-of-type {\n",
       "        vertical-align: middle;\n",
       "    }\n",
       "\n",
       "    .dataframe tbody tr th {\n",
       "        vertical-align: top;\n",
       "    }\n",
       "\n",
       "    .dataframe thead th {\n",
       "        text-align: right;\n",
       "    }\n",
       "</style>\n",
       "<table border=\"1\" class=\"dataframe\">\n",
       "  <thead>\n",
       "    <tr style=\"text-align: right;\">\n",
       "      <th></th>\n",
       "      <th>year</th>\n",
       "      <th>smoke_estimate</th>\n",
       "    </tr>\n",
       "  </thead>\n",
       "  <tbody>\n",
       "    <tr>\n",
       "      <th>0</th>\n",
       "      <td>1971</td>\n",
       "      <td>7.285569</td>\n",
       "    </tr>\n",
       "    <tr>\n",
       "      <th>1</th>\n",
       "      <td>1972</td>\n",
       "      <td>5.659512</td>\n",
       "    </tr>\n",
       "    <tr>\n",
       "      <th>2</th>\n",
       "      <td>1973</td>\n",
       "      <td>7.127050</td>\n",
       "    </tr>\n",
       "    <tr>\n",
       "      <th>3</th>\n",
       "      <td>1974</td>\n",
       "      <td>6.097531</td>\n",
       "    </tr>\n",
       "    <tr>\n",
       "      <th>4</th>\n",
       "      <td>1975</td>\n",
       "      <td>5.604781</td>\n",
       "    </tr>\n",
       "  </tbody>\n",
       "</table>\n",
       "</div>"
      ],
      "text/plain": [
       "   year  smoke_estimate\n",
       "0  1971        7.285569\n",
       "1  1972        5.659512\n",
       "2  1973        7.127050\n",
       "3  1974        6.097531\n",
       "4  1975        5.604781"
      ]
     },
     "execution_count": 311,
     "metadata": {},
     "output_type": "execute_result"
    }
   ],
   "source": [
    "# converting the dictionary above with predicted values to a dataframe\n",
    "predicted_df = pd.DataFrame(list(predicted_values.items()), columns=['year', 'smoke_estimate'])\n",
    "predicted_df.head()"
   ]
  },
  {
   "cell_type": "code",
   "execution_count": 304,
   "id": "b0f9101c",
   "metadata": {},
   "outputs": [
    {
     "data": {
      "text/html": [
       "<div>\n",
       "<style scoped>\n",
       "    .dataframe tbody tr th:only-of-type {\n",
       "        vertical-align: middle;\n",
       "    }\n",
       "\n",
       "    .dataframe tbody tr th {\n",
       "        vertical-align: top;\n",
       "    }\n",
       "\n",
       "    .dataframe thead th {\n",
       "        text-align: right;\n",
       "    }\n",
       "</style>\n",
       "<table border=\"1\" class=\"dataframe\">\n",
       "  <thead>\n",
       "    <tr style=\"text-align: right;\">\n",
       "      <th></th>\n",
       "      <th>Fire_Year</th>\n",
       "      <th>smoke_estimate</th>\n",
       "    </tr>\n",
       "  </thead>\n",
       "  <tbody>\n",
       "    <tr>\n",
       "      <th>0</th>\n",
       "      <td>1963</td>\n",
       "      <td>8.278298</td>\n",
       "    </tr>\n",
       "    <tr>\n",
       "      <th>1</th>\n",
       "      <td>1964</td>\n",
       "      <td>2.660020</td>\n",
       "    </tr>\n",
       "    <tr>\n",
       "      <th>2</th>\n",
       "      <td>1965</td>\n",
       "      <td>10.897260</td>\n",
       "    </tr>\n",
       "    <tr>\n",
       "      <th>3</th>\n",
       "      <td>1966</td>\n",
       "      <td>3.994472</td>\n",
       "    </tr>\n",
       "    <tr>\n",
       "      <th>4</th>\n",
       "      <td>1967</td>\n",
       "      <td>7.773989</td>\n",
       "    </tr>\n",
       "  </tbody>\n",
       "</table>\n",
       "</div>"
      ],
      "text/plain": [
       "   Fire_Year  smoke_estimate\n",
       "0       1963        8.278298\n",
       "1       1964        2.660020\n",
       "2       1965       10.897260\n",
       "3       1966        3.994472\n",
       "4       1967        7.773989"
      ]
     },
     "execution_count": 304,
     "metadata": {},
     "output_type": "execute_result"
    }
   ],
   "source": [
    "# This uses one of the earlier defined notebooks with smoke estimates as calculated from the wildfire data\n",
    "result_df_new = result_df.reset_index()\n",
    "result_df_new['Fire_Year'] = pd.to_datetime(result_df_new['Fire_Year']).dt.year\n",
    "result_df_new.head()"
   ]
  },
  {
   "cell_type": "code",
   "execution_count": 314,
   "id": "a03edf72",
   "metadata": {},
   "outputs": [
    {
     "data": {
      "image/png": "[encoded data removed]",
      "text/plain": [
       "<Figure size 1080x504 with 1 Axes>"
      ]
     },
     "metadata": {
      "needs_background": "light"
     },
     "output_type": "display_data"
    }
   ],
   "source": [
    "# This is a graph representing the predicted v/s actual smoke estimates \n",
    "# Create the time series graph\n",
    "plt.figure(figsize=(15, 7))\n",
    "plt.plot(predicted_df['year'], predicted_df['smoke_estimate'], label='Predicted Smoke Estimate', marker='o', linestyle='-')\n",
    "plt.plot(result_df_new['Fire_Year'], result_df_new['smoke_estimate'], label='Calculated Smoke Estimate', marker='o', linestyle='-')\n",
    "\n",
    "# Set labels and title\n",
    "plt.xlabel('Year')\n",
    "plt.ylabel('Estimate')\n",
    "plt.title('Time Series of Predicted Smoke Estimate and Calculated Smoke Estimate')\n",
    "plt.legend()\n",
    "\n",
    "# Show the graph\n",
    "plt.grid(True)\n",
    "plt.show()"
   ]
  },
  {
   "cell_type": "markdown",
   "id": "70580a0d",
   "metadata": {},
   "source": [
    "# Step 2: Visualize aspects of your analysis"
   ]
  },
  {
   "cell_type": "markdown",
   "id": "8c72cf25",
   "metadata": {},
   "source": [
    "## Visualization 1: \n",
    "Produce a histogram showing the number of fires occurring every 50 mile distance from your assigned city up to the max specified distance.\n",
    "\n"
   ]
  },
  {
   "cell_type": "code",
   "execution_count": 233,
   "id": "c325ef24",
   "metadata": {},
   "outputs": [
    {
     "data": {
      "text/html": [
       "<div>\n",
       "<style scoped>\n",
       "    .dataframe tbody tr th:only-of-type {\n",
       "        vertical-align: middle;\n",
       "    }\n",
       "\n",
       "    .dataframe tbody tr th {\n",
       "        vertical-align: top;\n",
       "    }\n",
       "\n",
       "    .dataframe thead th {\n",
       "        text-align: right;\n",
       "    }\n",
       "</style>\n",
       "<table border=\"1\" class=\"dataframe\">\n",
       "  <thead>\n",
       "    <tr style=\"text-align: right;\">\n",
       "      <th></th>\n",
       "      <th>USGS_Assigned_ID</th>\n",
       "      <th>distance</th>\n",
       "    </tr>\n",
       "  </thead>\n",
       "  <tbody>\n",
       "    <tr>\n",
       "      <th>0</th>\n",
       "      <td>14299</td>\n",
       "      <td>147.463431</td>\n",
       "    </tr>\n",
       "    <tr>\n",
       "      <th>1</th>\n",
       "      <td>14300</td>\n",
       "      <td>132.134128</td>\n",
       "    </tr>\n",
       "    <tr>\n",
       "      <th>2</th>\n",
       "      <td>14301</td>\n",
       "      <td>141.476152</td>\n",
       "    </tr>\n",
       "    <tr>\n",
       "      <th>3</th>\n",
       "      <td>14302</td>\n",
       "      <td>227.902521</td>\n",
       "    </tr>\n",
       "    <tr>\n",
       "      <th>4</th>\n",
       "      <td>14303</td>\n",
       "      <td>159.883818</td>\n",
       "    </tr>\n",
       "  </tbody>\n",
       "</table>\n",
       "</div>"
      ],
      "text/plain": [
       "   USGS_Assigned_ID    distance\n",
       "0             14299  147.463431\n",
       "1             14300  132.134128\n",
       "2             14301  141.476152\n",
       "3             14302  227.902521\n",
       "4             14303  159.883818"
      ]
     },
     "execution_count": 233,
     "metadata": {},
     "output_type": "execute_result"
    }
   ],
   "source": [
    "# create a smaller dataframe with an ID field and the field under study - distance\n",
    "dist_df = df_mini_copy[['USGS_Assigned_ID', 'distance']]\n",
    "dist_df.head()"
   ]
  },
  {
   "cell_type": "code",
   "execution_count": 241,
   "id": "6a3438ea",
   "metadata": {},
   "outputs": [
    {
     "data": {
      "image/png": "[encoded data removed]",
      "text/plain": [
       "<Figure size 1080x504 with 1 Axes>"
      ]
     },
     "metadata": {
      "needs_background": "light"
     },
     "output_type": "display_data"
    }
   ],
   "source": [
    "# Define the maximum specified distance\n",
    "max_distance = 1250  \n",
    "\n",
    "# Create bins for the histogram\n",
    "bin_width = 50\n",
    "num_bins = int(max_distance / bin_width)\n",
    "bins = [i * bin_width for i in range(num_bins + 1)]\n",
    "\n",
    "plt.figure(figsize=(15,7))\n",
    "# Use the 'distance' column to create the histogram\n",
    "plt.hist(dist_df['distance'], bins=bins, edgecolor='k', alpha=0.75)\n",
    "\n",
    "# Set labels and title\n",
    "plt.xlabel('Distance (miles)')\n",
    "plt.ylabel('Number of Fires')\n",
    "plt.title('Number of Fires by Distance')\n",
    "\n",
    "# Show the histogram\n",
    "plt.show()"
   ]
  },
  {
   "cell_type": "markdown",
   "id": "d7a85595",
   "metadata": {},
   "source": [
    "## Visualization 2: \n",
    "Produce a time series graph of total acres burned per year for the fires occurring in the specified distance from your city.\n"
   ]
  },
  {
   "cell_type": "code",
   "execution_count": 315,
   "id": "6d6b7c56",
   "metadata": {},
   "outputs": [
    {
     "name": "stderr",
     "output_type": "stream",
     "text": [
      "/var/folders/wf/j2bykxxs0sv87m6vct6sttxc0000gn/T/ipykernel_57682/3433708826.py:2: SettingWithCopyWarning: \n",
      "A value is trying to be set on a copy of a slice from a DataFrame.\n",
      "Try using .loc[row_indexer,col_indexer] = value instead\n",
      "\n",
      "See the caveats in the documentation: https://pandas.pydata.org/pandas-docs/stable/user_guide/indexing.html#returning-a-view-versus-a-copy\n",
      "  df_area['GIS_Acres'] = df_area['GIS_Hectares'] * 2.4710538147\n"
     ]
    }
   ],
   "source": [
    "# create a smaller dataframe with an ID field and the fields under study - GIS_Hectares and Fire_Year\n",
    "df_area = df_mini_copy[['USGS_Assigned_ID', 'GIS_Hectares', 'Fire_Year']]\n",
    "# convert hectares to acres\n",
    "df_area['GIS_Acres'] = df_area['GIS_Hectares'] * 2.4710538147"
   ]
  },
  {
   "cell_type": "code",
   "execution_count": 316,
   "id": "bd79921d",
   "metadata": {},
   "outputs": [
    {
     "data": {
      "image/png": "[encoded data removed]",
      "text/plain": [
       "<Figure size 1080x504 with 1 Axes>"
      ]
     },
     "metadata": {
      "needs_background": "light"
     },
     "output_type": "display_data"
    }
   ],
   "source": [
    "# Group and sum the total acres burned per year\n",
    "total_acres_burned_per_year = df_area.groupby('Fire_Year')['GIS_Acres'].sum()\n",
    "plt.figure(figsize=(15,7))\n",
    "# Create a time series graph\n",
    "plt.plot(total_acres_burned_per_year.index, total_acres_burned_per_year.values, marker='o', linestyle='-')\n",
    "\n",
    "# Set labels and title\n",
    "plt.xlabel('Year')\n",
    "plt.ylabel('Total Acres Burned')\n",
    "plt.title('Time Series of Total Acres Burned Per Year')\n",
    "\n",
    "# Show the graph\n",
    "plt.show()"
   ]
  },
  {
   "cell_type": "markdown",
   "id": "2378a301",
   "metadata": {},
   "source": [
    "## Visualization 3: \n",
    "Produce a time series graph containing your fire smoke estimate for your city and the AQI estimate for your city.\n"
   ]
  },
  {
   "cell_type": "code",
   "execution_count": 262,
   "id": "a168486e",
   "metadata": {},
   "outputs": [
    {
     "data": {
      "text/html": [
       "<div>\n",
       "<style scoped>\n",
       "    .dataframe tbody tr th:only-of-type {\n",
       "        vertical-align: middle;\n",
       "    }\n",
       "\n",
       "    .dataframe tbody tr th {\n",
       "        vertical-align: top;\n",
       "    }\n",
       "\n",
       "    .dataframe thead th {\n",
       "        text-align: right;\n",
       "    }\n",
       "</style>\n",
       "<table border=\"1\" class=\"dataframe\">\n",
       "  <thead>\n",
       "    <tr style=\"text-align: right;\">\n",
       "      <th></th>\n",
       "      <th>Fire_Year</th>\n",
       "      <th>smoke_estimate</th>\n",
       "      <th>year</th>\n",
       "    </tr>\n",
       "  </thead>\n",
       "  <tbody>\n",
       "    <tr>\n",
       "      <th>0</th>\n",
       "      <td>1963-01-01</td>\n",
       "      <td>8.278298</td>\n",
       "      <td>1963</td>\n",
       "    </tr>\n",
       "    <tr>\n",
       "      <th>1</th>\n",
       "      <td>1964-01-01</td>\n",
       "      <td>2.660020</td>\n",
       "      <td>1964</td>\n",
       "    </tr>\n",
       "    <tr>\n",
       "      <th>2</th>\n",
       "      <td>1965-01-01</td>\n",
       "      <td>10.897260</td>\n",
       "      <td>1965</td>\n",
       "    </tr>\n",
       "    <tr>\n",
       "      <th>3</th>\n",
       "      <td>1966-01-01</td>\n",
       "      <td>3.994472</td>\n",
       "      <td>1966</td>\n",
       "    </tr>\n",
       "    <tr>\n",
       "      <th>4</th>\n",
       "      <td>1967-01-01</td>\n",
       "      <td>7.773989</td>\n",
       "      <td>1967</td>\n",
       "    </tr>\n",
       "  </tbody>\n",
       "</table>\n",
       "</div>"
      ],
      "text/plain": [
       "   Fire_Year  smoke_estimate  year\n",
       "0 1963-01-01        8.278298  1963\n",
       "1 1964-01-01        2.660020  1964\n",
       "2 1965-01-01       10.897260  1965\n",
       "3 1966-01-01        3.994472  1966\n",
       "4 1967-01-01        7.773989  1967"
      ]
     },
     "execution_count": 262,
     "metadata": {},
     "output_type": "execute_result"
    }
   ],
   "source": [
    "# use the results dataframe from above with the year and smoke estimate as calculated using the defined formula\n",
    "result_df_new = result_df.reset_index()\n",
    "result_df_new['year'] = pd.to_datetime(result_df_new['Fire_Year']).dt.year\n",
    "result_df_new.head()"
   ]
  },
  {
   "cell_type": "code",
   "execution_count": 266,
   "id": "339e11bc",
   "metadata": {},
   "outputs": [
    {
     "data": {
      "text/html": [
       "<div>\n",
       "<style scoped>\n",
       "    .dataframe tbody tr th:only-of-type {\n",
       "        vertical-align: middle;\n",
       "    }\n",
       "\n",
       "    .dataframe tbody tr th {\n",
       "        vertical-align: top;\n",
       "    }\n",
       "\n",
       "    .dataframe thead th {\n",
       "        text-align: right;\n",
       "    }\n",
       "</style>\n",
       "<table border=\"1\" class=\"dataframe\">\n",
       "  <thead>\n",
       "    <tr style=\"text-align: right;\">\n",
       "      <th></th>\n",
       "      <th>year</th>\n",
       "      <th>AQI</th>\n",
       "    </tr>\n",
       "  </thead>\n",
       "  <tbody>\n",
       "    <tr>\n",
       "      <th>0</th>\n",
       "      <td>1986</td>\n",
       "      <td>34.518519</td>\n",
       "    </tr>\n",
       "    <tr>\n",
       "      <th>1</th>\n",
       "      <td>1987</td>\n",
       "      <td>36.034483</td>\n",
       "    </tr>\n",
       "    <tr>\n",
       "      <th>2</th>\n",
       "      <td>1988</td>\n",
       "      <td>36.222222</td>\n",
       "    </tr>\n",
       "    <tr>\n",
       "      <th>3</th>\n",
       "      <td>1989</td>\n",
       "      <td>33.606838</td>\n",
       "    </tr>\n",
       "    <tr>\n",
       "      <th>4</th>\n",
       "      <td>1990</td>\n",
       "      <td>29.284211</td>\n",
       "    </tr>\n",
       "  </tbody>\n",
       "</table>\n",
       "</div>"
      ],
      "text/plain": [
       "   year        AQI\n",
       "0  1986  34.518519\n",
       "1  1987  36.034483\n",
       "2  1988  36.222222\n",
       "3  1989  33.606838\n",
       "4  1990  29.284211"
      ]
     },
     "execution_count": 266,
     "metadata": {},
     "output_type": "execute_result"
    }
   ],
   "source": [
    "# convert the dictionary of aqi and year to a dataframe of the same for visualization\n",
    "aqi_year_df = pd.DataFrame(list(aqi_year.items()), columns=['year', 'AQI'])\n",
    "aqi_year_df['year'] = pd.to_datetime(aqi_year_df['year']).dt.year\n",
    "aqi_year_df.head()"
   ]
  },
  {
   "cell_type": "code",
   "execution_count": 276,
   "id": "f7b5b595",
   "metadata": {
    "scrolled": true
   },
   "outputs": [
    {
     "data": {
      "text/html": [
       "<div>\n",
       "<style scoped>\n",
       "    .dataframe tbody tr th:only-of-type {\n",
       "        vertical-align: middle;\n",
       "    }\n",
       "\n",
       "    .dataframe tbody tr th {\n",
       "        vertical-align: top;\n",
       "    }\n",
       "\n",
       "    .dataframe thead th {\n",
       "        text-align: right;\n",
       "    }\n",
       "</style>\n",
       "<table border=\"1\" class=\"dataframe\">\n",
       "  <thead>\n",
       "    <tr style=\"text-align: right;\">\n",
       "      <th></th>\n",
       "      <th>Fire_Year</th>\n",
       "      <th>smoke_estimate</th>\n",
       "      <th>year</th>\n",
       "      <th>AQI</th>\n",
       "    </tr>\n",
       "  </thead>\n",
       "  <tbody>\n",
       "    <tr>\n",
       "      <th>0</th>\n",
       "      <td>1986-01-01</td>\n",
       "      <td>5.874813</td>\n",
       "      <td>1986</td>\n",
       "      <td>34.518519</td>\n",
       "    </tr>\n",
       "    <tr>\n",
       "      <th>1</th>\n",
       "      <td>1987-01-01</td>\n",
       "      <td>4.576164</td>\n",
       "      <td>1987</td>\n",
       "      <td>36.034483</td>\n",
       "    </tr>\n",
       "    <tr>\n",
       "      <th>2</th>\n",
       "      <td>1988-01-01</td>\n",
       "      <td>13.971327</td>\n",
       "      <td>1988</td>\n",
       "      <td>36.222222</td>\n",
       "    </tr>\n",
       "    <tr>\n",
       "      <th>3</th>\n",
       "      <td>1989-01-01</td>\n",
       "      <td>3.813257</td>\n",
       "      <td>1989</td>\n",
       "      <td>33.606838</td>\n",
       "    </tr>\n",
       "    <tr>\n",
       "      <th>4</th>\n",
       "      <td>1990-01-01</td>\n",
       "      <td>5.313378</td>\n",
       "      <td>1990</td>\n",
       "      <td>29.284211</td>\n",
       "    </tr>\n",
       "  </tbody>\n",
       "</table>\n",
       "</div>"
      ],
      "text/plain": [
       "   Fire_Year  smoke_estimate  year        AQI\n",
       "0 1986-01-01        5.874813  1986  34.518519\n",
       "1 1987-01-01        4.576164  1987  36.034483\n",
       "2 1988-01-01       13.971327  1988  36.222222\n",
       "3 1989-01-01        3.813257  1989  33.606838\n",
       "4 1990-01-01        5.313378  1990  29.284211"
      ]
     },
     "execution_count": 276,
     "metadata": {},
     "output_type": "execute_result"
    }
   ],
   "source": [
    "# join the above two dataframes based on year\n",
    "merged_df = pd.merge(result_df_new, aqi_year_df, on='year', how='inner')\n",
    "merged_df.head()"
   ]
  },
  {
   "cell_type": "code",
   "execution_count": 282,
   "id": "1b2b4f2b",
   "metadata": {},
   "outputs": [
    {
     "data": {
      "image/png": "[encoded data removed]",
      "text/plain": [
       "<Figure size 1080x504 with 1 Axes>"
      ]
     },
     "metadata": {
      "needs_background": "light"
     },
     "output_type": "display_data"
    }
   ],
   "source": [
    "merged_df['year'] = pd.to_datetime(merged_df['Fire_Year'])\n",
    "\n",
    "# Create the time series graph\n",
    "plt.figure(figsize=(15, 7))\n",
    "plt.plot(merged_df['year'], merged_df['smoke_estimate'], label='Fire Smoke Estimate', marker='o', linestyle='-')\n",
    "plt.plot(merged_df['year'], merged_df['AQI'], label='AQI Estimate', marker='o', linestyle='-')\n",
    "\n",
    "# Set labels and title\n",
    "plt.xlabel('Year')\n",
    "plt.ylabel('Estimate')\n",
    "plt.title('Time Series of Fire Smoke Estimate and AQI Estimate')\n",
    "plt.legend()\n",
    "\n",
    "# Show the graph\n",
    "plt.grid(True)\n",
    "plt.show()"
   ]
  }
 ],
 "metadata": {
  "kernelspec": {
   "display_name": "Python 3 (ipykernel)",
   "language": "python",
   "name": "python3"
  },
  "language_info": {
   "codemirror_mode": {
    "name": "ipython",
    "version": 3
   },
   "file_extension": ".py",
   "mimetype": "text/x-python",
   "name": "python",
   "nbconvert_exporter": "python",
   "pygments_lexer": "ipython3",
   "version": "3.9.12"
  }
 },
 "nbformat": 4,
 "nbformat_minor": 5
}
